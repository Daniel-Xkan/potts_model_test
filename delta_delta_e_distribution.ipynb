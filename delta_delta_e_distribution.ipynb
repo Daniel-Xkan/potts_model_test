{
 "cells": [
  {
   "cell_type": "markdown",
   "metadata": {
    "id": "LpU9b4CjL9Xu"
   },
   "source": [
    "# 1 download J matrix and sequences\n"
   ]
  },
  {
   "cell_type": "code",
   "execution_count": 1,
   "metadata": {
    "colab": {
     "base_uri": "https://localhost:8080/"
    },
    "id": "SoJTXTJpLM_x",
    "outputId": "8fdbc9c1-954c-42d3-897d-7f0cfd3571a1"
   },
   "outputs": [
    {
     "name": "stdout",
     "output_type": "stream",
     "text": [
      "Failed to download https://github.com/Daniel-Xkan/potts_model_test/raw/main/J.npy\n",
      "Failed to download https://github.com/Daniel-Xkan/potts_model_test/raw/main/in.reduce4.seq\n"
     ]
    },
    {
     "name": "stderr",
     "output_type": "stream",
     "text": [
      "sh: wget: command not found\n",
      "sh: wget: command not found\n"
     ]
    }
   ],
   "source": [
    "import os\n",
    "\n",
    "url_j = \"https://github.com/Daniel-Xkan/potts_model_test/raw/main/J.npy\"\n",
    "url_seq = \"https://github.com/Daniel-Xkan/potts_model_test/raw/main/in.reduce4.seq\"\n",
    "\n",
    "# Suppress output and check for success\n",
    "if os.system(f\"wget -q {url_j}\") == 0:\n",
    "    print(f\"Successfully downloaded {url_j}\")\n",
    "else:\n",
    "    print(f\"Failed to download {url_j}\")\n",
    "\n",
    "if os.system(f\"wget -q {url_seq}\") == 0:\n",
    "    print(f\"Successfully downloaded {url_seq}\")\n",
    "else:\n",
    "    print(f\"Failed to download {url_seq}\")"
   ]
  },
  {
   "cell_type": "markdown",
   "metadata": {
    "id": "5y8jvtxrMXta"
   },
   "source": [
    "# 2. load and initialize the J matrix dictionary\n"
   ]
  },
  {
   "cell_type": "code",
   "execution_count": 2,
   "metadata": {
    "colab": {
     "base_uri": "https://localhost:8080/"
    },
    "id": "7vY087T5Mf4k",
    "outputId": "23852d97-3273-4618-d44d-65be03ebaa09"
   },
   "outputs": [
    {
     "name": "stdout",
     "output_type": "stream",
     "text": [
      "Dictionary created with 1102496 entries\n"
     ]
    }
   ],
   "source": [
    "import numpy as np\n",
    "\n",
    "#dictionary of J matrix\n",
    "J_dict = {}\n",
    "\n",
    "# Load the J matrix from the downloaded file\n",
    "J = np.load('J.npy')\n",
    "\n",
    "row = 0\n",
    "for pos1 in range(1, 264):\n",
    "    for pos2 in range(pos1 + 1, 264):\n",
    "\n",
    "        for i, aa1 in enumerate(['A', 'B', 'C', 'D']):\n",
    "            for j, aa2 in enumerate(['A', 'B', 'C', 'D']):\n",
    "                col = i*4+j\n",
    "\n",
    "\n",
    "                J_dict[(pos1, pos2, aa1, aa2)] = J[row, col]\n",
    "                J_dict[(pos2, pos1, aa2, aa1)] = J[row, col]\n",
    "            # print(f\"Row {row}: J[{row}, {col}] = {J[row, col]} for positions ({pos1}, {pos2}) with amino acids ({aa1}, {aa2})\")\n",
    "        row += 1\n",
    "\n",
    "print(f\"Dictionary created with {len(J_dict)} entries\")"
   ]
  },
  {
   "cell_type": "markdown",
   "metadata": {
    "id": "PsRXstUpMtQC"
   },
   "source": [
    "# 3. load sequences"
   ]
  },
  {
   "cell_type": "code",
   "execution_count": 3,
   "metadata": {
    "id": "Kd8tLea-Mwu8"
   },
   "outputs": [],
   "source": [
    "with open('in.reduce4.seq', 'r') as f:\n",
    "    sequence = f.read().strip()\n",
    "sequence_list = sequence.split('\\n')"
   ]
  },
  {
   "cell_type": "code",
   "execution_count": 4,
   "metadata": {
    "colab": {
     "base_uri": "https://localhost:8080/"
    },
    "id": "DJYptimrM7IV",
    "outputId": "6873ae40-a0c1-4ee6-d582-18a056b644ce"
   },
   "outputs": [
    {
     "name": "stdout",
     "output_type": "stream",
     "text": [
      "ABAAABABACBBAACBDBABBDBDBBBAAAAAABAAABDAABAABAAABBBAAAAACACBAABAADACCBADAACACABBABABAAABABBAABDAABCABAABABAAAABDCBCAAADABCCADDAAAAAAAACDBDADBADAAABBABAAAAACBBADAAACCAAABAAABAAABAABABAABABABAAAACCAAAAAAAABBBBCACDCAACDBDCBCAAAAABADDBCACAAAAABAABAAAAAAABBDBDBACCBBBA\n"
     ]
    }
   ],
   "source": [
    "Consensus = sequence_list[0]\n",
    "print(sequence_list[0])"
   ]
  },
  {
   "cell_type": "markdown",
   "metadata": {
    "id": "RNXQqDGQRZ0w"
   },
   "source": [
    "# 4. calculate delta delta E"
   ]
  },
  {
   "cell_type": "markdown",
   "metadata": {
    "id": "OTToVkCSSXJs"
   },
   "source": [
    "## 4.1 define double delta E energy"
   ]
  },
  {
   "cell_type": "code",
   "execution_count": 5,
   "metadata": {
    "id": "2osgtskxR6NZ"
   },
   "outputs": [],
   "source": [
    "def double_mutation_delta_delta_E(seq, pos1, aa1_new, pos2, aa2_new, J_dict, old_amino_acid1, old_amino_acid2):\n",
    "    \"\"\"\n",
    "    Calculate delta delta E for a double mutation:\n",
    "    delta_delta_E = delta_E_double - (delta_E_single1 + delta_E_single2)\n",
    "    seq: original sequence (string)\n",
    "    pos1, pos2: 1-based positions to mutate\n",
    "    aa1_new, aa2_new: new amino acids at pos1 and pos2\n",
    "    J_dict: dictionary of J matrix\n",
    "    old_amino_acid1, old_amino_acid2: original amino acids at pos1 and pos2\n",
    "    \"\"\"\n",
    "    # Single mutation at pos1\n",
    "    delta_E_single1 = 0\n",
    "    for other_pos in range(1, len(seq) + 1):\n",
    "        if other_pos == pos1:\n",
    "            continue\n",
    "        other_aa = seq[other_pos - 1]\n",
    "        delta_E_single1 += J_dict.get((pos1, other_pos, old_amino_acid1, other_aa), 0) - J_dict.get((pos1, other_pos, aa1_new, other_aa), 0)\n",
    "\n",
    "    # Single mutation at pos2\n",
    "    delta_E_single2 = 0\n",
    "    for other_pos in range(1, len(seq) + 1):\n",
    "        if other_pos == pos2:\n",
    "            continue\n",
    "        other_aa = seq[other_pos - 1]\n",
    "        delta_E_single2 += J_dict.get((pos2, other_pos, old_amino_acid2, other_aa), 0) - J_dict.get((pos2, other_pos, aa2_new, other_aa), 0)\n",
    "\n",
    "    # Double mutation\n",
    "    seq_double = list(seq)\n",
    "    seq_double[pos1 - 1] = aa1_new\n",
    "    seq_double[pos2 - 1] = aa2_new\n",
    "\n",
    "    delta_E_double = 0\n",
    "    # Contribution for pos1\n",
    "    for other_pos in range(1, len(seq) + 1):\n",
    "        if other_pos == pos1:\n",
    "            continue\n",
    "        other_aa = seq_double[other_pos - 1]\n",
    "        delta_E_double += J_dict.get((pos1, other_pos, aa1_new, other_aa), 0) - J_dict.get((pos1, other_pos, old_amino_acid1, seq[other_pos - 1]), 0)\n",
    "    # Contribution for pos2\n",
    "    for other_pos in range(1, len(seq) + 1):\n",
    "        if other_pos == pos2:\n",
    "            continue\n",
    "        other_aa = seq_double[other_pos - 1]\n",
    "        delta_E_double += J_dict.get((pos2, other_pos, aa2_new, other_aa), 0) - J_dict.get((pos2, other_pos, old_amino_acid2, seq[other_pos - 1]), 0)\n",
    "\n",
    "    # Remove double-counted interaction between pos1 and pos2\n",
    "    # (since both loops above include it twice)\n",
    "    # aa1_old = seq[pos1 - 1]\n",
    "    # aa2_old = seq[pos2 - 1]\n",
    "    double_old = J_dict.get((pos1, pos2, old_amino_acid1, old_amino_acid2), 0)\n",
    "    double_new = J_dict.get((pos1, pos2, aa1_new, aa2_new), 0)\n",
    "    delta_E_double -= double_new - double_old\n",
    "\n",
    "    delta_delta_E = delta_E_double - (delta_E_single1 + delta_E_single2)\n",
    "    # print(delta_delta_E, delta_E_double,delta_E_single1, delta_E_single2)\n",
    "    return delta_delta_E"
   ]
  },
  {
   "cell_type": "markdown",
   "metadata": {
    "id": "d8umIBg_ScKh"
   },
   "source": [
    "## 4.2 define mutations"
   ]
  },
  {
   "cell_type": "code",
   "execution_count": 6,
   "metadata": {
    "colab": {
     "base_uri": "https://localhost:8080/",
     "height": 67,
     "referenced_widgets": [
      "783b356571324fe7b497b883c3ca5e3d",
      "8fbaab16da94470fad903da03d151f74",
      "e20bf3b403d847c0a631efdc4ab3796a",
      "39834e04ef2e46a0bda402adfc5b0d9d",
      "e32dd9ff284745ac94333534c0390e04",
      "a8cfb168a36746deab7ba1f34ca4da12",
      "31c46611baca40ae929b33decf1ac61e",
      "01870aad64734999a2d30006aac285fb",
      "671b7243f1b54da8b9172ea21ae1c8b0",
      "7f86d1d433f04678ab73c8d15a402435",
      "e83077a59c324e5fbe63552dbba6b6bb"
     ]
    },
    "id": "RXevKZ8TSe62",
    "outputId": "8296ae18-477e-4904-ce85-cfa861c5f925"
   },
   "outputs": [
    {
     "ename": "ModuleNotFoundError",
     "evalue": "No module named 'tqdm'",
     "output_type": "error",
     "traceback": [
      "\u001b[0;31m---------------------------------------------------------------------------\u001b[0m",
      "\u001b[0;31mModuleNotFoundError\u001b[0m                       Traceback (most recent call last)",
      "Cell \u001b[0;32mIn[6], line 3\u001b[0m\n\u001b[1;32m      1\u001b[0m \u001b[38;5;28;01mimport\u001b[39;00m \u001b[38;5;21;01mitertools\u001b[39;00m\n\u001b[1;32m      2\u001b[0m \u001b[38;5;28;01mimport\u001b[39;00m \u001b[38;5;21;01mcsv\u001b[39;00m\n\u001b[0;32m----> 3\u001b[0m \u001b[38;5;28;01mfrom\u001b[39;00m \u001b[38;5;21;01mtqdm\u001b[39;00m\u001b[38;5;21;01m.\u001b[39;00m\u001b[38;5;21;01mnotebook\u001b[39;00m \u001b[38;5;28;01mimport\u001b[39;00m tqdm \u001b[38;5;66;03m# Import tqdm\u001b[39;00m\n\u001b[1;32m      5\u001b[0m output_file \u001b[38;5;241m=\u001b[39m \u001b[38;5;124m'\u001b[39m\u001b[38;5;124mdelta_delta_E.tsv\u001b[39m\u001b[38;5;124m'\u001b[39m\n\u001b[1;32m      7\u001b[0m \u001b[38;5;28;01mwith\u001b[39;00m \u001b[38;5;28mopen\u001b[39m(output_file, \u001b[38;5;124m'\u001b[39m\u001b[38;5;124mw\u001b[39m\u001b[38;5;124m'\u001b[39m, newline\u001b[38;5;241m=\u001b[39m\u001b[38;5;124m'\u001b[39m\u001b[38;5;124m'\u001b[39m) \u001b[38;5;28;01mas\u001b[39;00m tsvfile:\n",
      "\u001b[0;31mModuleNotFoundError\u001b[0m: No module named 'tqdm'"
     ]
    }
   ],
   "source": [
    "import itertools\n",
    "import csv\n",
    "from tqdm.notebook import tqdm # Import tqdm\n",
    "\n",
    "output_file = 'delta_delta_E.tsv'\n",
    "\n",
    "with open(output_file, 'w', newline='') as tsvfile:\n",
    "    writer = csv.writer(tsvfile, delimiter='\\t')\n",
    "    writer.writerow(['mutation 1', 'mutation 2', 'delta delta E'])\n",
    "\n",
    "    amino_acids = ['A', 'B', 'C', 'D']\n",
    "    sequence_length = len(Consensus)\n",
    "\n",
    "    # Calculate the total number of iterations for the progress bar\n",
    "    total_iterations = 0\n",
    "    for pos1 in range(1, sequence_length + 1):\n",
    "        for pos2 in range(pos1 + 1, sequence_length + 1):\n",
    "            old_amino_acid1 = Consensus[pos1 - 1]\n",
    "            old_amino_acid2 = Consensus[pos2 - 1]\n",
    "            for aa1_new in amino_acids:\n",
    "                for aa2_new in amino_acids:\n",
    "                    if aa1_new != old_amino_acid1 and aa2_new != old_amino_acid2:\n",
    "                        total_iterations += 1\n",
    "\n",
    "    # Iterate through all possible pairs of positions with a progress bar\n",
    "    with tqdm(total=total_iterations, desc=\"Calculating Delta Delta E\") as pbar:\n",
    "        for pos1 in range(1, sequence_length + 1):\n",
    "            for pos2 in range(pos1 + 1, sequence_length + 1):\n",
    "                old_amino_acid1 = Consensus[pos1 - 1]\n",
    "                old_amino_acid2 = Consensus[pos2 - 1]\n",
    "\n",
    "                # Iterate through all possible new amino acids for pos1 and pos2\n",
    "                for aa1_new in amino_acids:\n",
    "                    for aa2_new in amino_acids:\n",
    "                        # Only calculate if at least one amino acid is different\n",
    "                        if aa1_new != old_amino_acid1 and aa2_new != old_amino_acid2:\n",
    "                            dde = double_mutation_delta_delta_E(Consensus, pos1, aa1_new, pos2, aa2_new, J_dict, old_amino_acid1, old_amino_acid2)\n",
    "                            mutation1_str = f\"{old_amino_acid1}{pos1}{aa1_new}\"\n",
    "                            mutation2_str = f\"{old_amino_acid2}{pos2}{aa2_new}\"\n",
    "                            writer.writerow([mutation1_str, mutation2_str, dde])\n",
    "                            pbar.update(1) # Update the progress bar\n",
    "\n",
    "print(f\"Delta delta E values written to {output_file}\")"
   ]
  },
  {
   "cell_type": "code",
   "execution_count": 1,
   "metadata": {
    "colab": {
     "base_uri": "https://localhost:8080/",
     "height": 242
    },
    "id": "1BUBb7gkJ-7G",
    "outputId": "3ca6210a-43ce-43c4-fd4f-f49e3bd64692"
   },
   "outputs": [
    {
     "name": "stdout",
     "output_type": "stream",
     "text": [
      "Original number of interactions: 310077\n",
      "Number of strong interactions (abs(DDE) > 40): 17699\n"
     ]
    },
    {
     "data": {
      "text/html": [
       "<div>\n",
       "<style scoped>\n",
       "    .dataframe tbody tr th:only-of-type {\n",
       "        vertical-align: middle;\n",
       "    }\n",
       "\n",
       "    .dataframe tbody tr th {\n",
       "        vertical-align: top;\n",
       "    }\n",
       "\n",
       "    .dataframe thead th {\n",
       "        text-align: right;\n",
       "    }\n",
       "</style>\n",
       "<table border=\"1\" class=\"dataframe\">\n",
       "  <thead>\n",
       "    <tr style=\"text-align: right;\">\n",
       "      <th></th>\n",
       "      <th>mutation 1</th>\n",
       "      <th>mutation 2</th>\n",
       "      <th>delta delta E</th>\n",
       "    </tr>\n",
       "  </thead>\n",
       "  <tbody>\n",
       "    <tr>\n",
       "      <th>11</th>\n",
       "      <td>A1B</td>\n",
       "      <td>A3D</td>\n",
       "      <td>40.748543</td>\n",
       "    </tr>\n",
       "    <tr>\n",
       "      <th>14</th>\n",
       "      <td>A1C</td>\n",
       "      <td>A3D</td>\n",
       "      <td>40.505570</td>\n",
       "    </tr>\n",
       "    <tr>\n",
       "      <th>17</th>\n",
       "      <td>A1D</td>\n",
       "      <td>A3D</td>\n",
       "      <td>40.805126</td>\n",
       "    </tr>\n",
       "    <tr>\n",
       "      <th>181</th>\n",
       "      <td>A1B</td>\n",
       "      <td>D22B</td>\n",
       "      <td>44.083984</td>\n",
       "    </tr>\n",
       "    <tr>\n",
       "      <th>184</th>\n",
       "      <td>A1C</td>\n",
       "      <td>D22B</td>\n",
       "      <td>43.840477</td>\n",
       "    </tr>\n",
       "  </tbody>\n",
       "</table>\n",
       "</div>"
      ],
      "text/plain": [
       "    mutation 1 mutation 2  delta delta E\n",
       "11         A1B        A3D      40.748543\n",
       "14         A1C        A3D      40.505570\n",
       "17         A1D        A3D      40.805126\n",
       "181        A1B       D22B      44.083984\n",
       "184        A1C       D22B      43.840477"
      ]
     },
     "metadata": {},
     "output_type": "display_data"
    }
   ],
   "source": [
    "import pandas as pd\n",
    "\n",
    "# Load the delta delta E data\n",
    "df = pd.read_csv('delta_delta_E.tsv', sep='\\t')\n",
    "\n",
    "# Define a threshold for strong interactions (example threshold, you might want to adjust this)\n",
    "# For example, let's consider interactions with absolute delta delta E > 40 as strong\n",
    "threshold = 40\n",
    "filtered_df = df[abs(df['delta delta E']) > threshold].copy()\n",
    "\n",
    "print(f\"Original number of interactions: {len(df)}\")\n",
    "print(f\"Number of strong interactions (abs(DDE) > {threshold}): {len(filtered_df)}\")\n",
    "\n",
    "display(filtered_df.head())"
   ]
  }
 ],
 "metadata": {
  "colab": {
   "machine_shape": "hm",
   "provenance": []
  },
  "kernelspec": {
   "display_name": "Python 3",
   "name": "python3"
  },
  "language_info": {
   "codemirror_mode": {
    "name": "ipython",
    "version": 3
   },
   "file_extension": ".py",
   "mimetype": "text/x-python",
   "name": "python",
   "nbconvert_exporter": "python",
   "pygments_lexer": "ipython3",
   "version": "3.8.6"
  },
  "widgets": {
   "application/vnd.jupyter.widget-state+json": {
    "01870aad64734999a2d30006aac285fb": {
     "model_module": "@jupyter-widgets/base",
     "model_module_version": "1.2.0",
     "model_name": "LayoutModel",
     "state": {
      "_model_module": "@jupyter-widgets/base",
      "_model_module_version": "1.2.0",
      "_model_name": "LayoutModel",
      "_view_count": null,
      "_view_module": "@jupyter-widgets/base",
      "_view_module_version": "1.2.0",
      "_view_name": "LayoutView",
      "align_content": null,
      "align_items": null,
      "align_self": null,
      "border": null,
      "bottom": null,
      "display": null,
      "flex": null,
      "flex_flow": null,
      "grid_area": null,
      "grid_auto_columns": null,
      "grid_auto_flow": null,
      "grid_auto_rows": null,
      "grid_column": null,
      "grid_gap": null,
      "grid_row": null,
      "grid_template_areas": null,
      "grid_template_columns": null,
      "grid_template_rows": null,
      "height": null,
      "justify_content": null,
      "justify_items": null,
      "left": null,
      "margin": null,
      "max_height": null,
      "max_width": null,
      "min_height": null,
      "min_width": null,
      "object_fit": null,
      "object_position": null,
      "order": null,
      "overflow": null,
      "overflow_x": null,
      "overflow_y": null,
      "padding": null,
      "right": null,
      "top": null,
      "visibility": null,
      "width": null
     }
    },
    "31c46611baca40ae929b33decf1ac61e": {
     "model_module": "@jupyter-widgets/controls",
     "model_module_version": "1.5.0",
     "model_name": "DescriptionStyleModel",
     "state": {
      "_model_module": "@jupyter-widgets/controls",
      "_model_module_version": "1.5.0",
      "_model_name": "DescriptionStyleModel",
      "_view_count": null,
      "_view_module": "@jupyter-widgets/base",
      "_view_module_version": "1.2.0",
      "_view_name": "StyleView",
      "description_width": ""
     }
    },
    "39834e04ef2e46a0bda402adfc5b0d9d": {
     "model_module": "@jupyter-widgets/controls",
     "model_module_version": "1.5.0",
     "model_name": "HTMLModel",
     "state": {
      "_dom_classes": [],
      "_model_module": "@jupyter-widgets/controls",
      "_model_module_version": "1.5.0",
      "_model_name": "HTMLModel",
      "_view_count": null,
      "_view_module": "@jupyter-widgets/controls",
      "_view_module_version": "1.5.0",
      "_view_name": "HTMLView",
      "description": "",
      "description_tooltip": null,
      "layout": "IPY_MODEL_7f86d1d433f04678ab73c8d15a402435",
      "placeholder": "​",
      "style": "IPY_MODEL_e83077a59c324e5fbe63552dbba6b6bb",
      "value": " 310077/310077 [03:59&lt;00:00, 1188.82it/s]"
     }
    },
    "671b7243f1b54da8b9172ea21ae1c8b0": {
     "model_module": "@jupyter-widgets/controls",
     "model_module_version": "1.5.0",
     "model_name": "ProgressStyleModel",
     "state": {
      "_model_module": "@jupyter-widgets/controls",
      "_model_module_version": "1.5.0",
      "_model_name": "ProgressStyleModel",
      "_view_count": null,
      "_view_module": "@jupyter-widgets/base",
      "_view_module_version": "1.2.0",
      "_view_name": "StyleView",
      "bar_color": null,
      "description_width": ""
     }
    },
    "783b356571324fe7b497b883c3ca5e3d": {
     "model_module": "@jupyter-widgets/controls",
     "model_module_version": "1.5.0",
     "model_name": "HBoxModel",
     "state": {
      "_dom_classes": [],
      "_model_module": "@jupyter-widgets/controls",
      "_model_module_version": "1.5.0",
      "_model_name": "HBoxModel",
      "_view_count": null,
      "_view_module": "@jupyter-widgets/controls",
      "_view_module_version": "1.5.0",
      "_view_name": "HBoxView",
      "box_style": "",
      "children": [
       "IPY_MODEL_8fbaab16da94470fad903da03d151f74",
       "IPY_MODEL_e20bf3b403d847c0a631efdc4ab3796a",
       "IPY_MODEL_39834e04ef2e46a0bda402adfc5b0d9d"
      ],
      "layout": "IPY_MODEL_e32dd9ff284745ac94333534c0390e04"
     }
    },
    "7f86d1d433f04678ab73c8d15a402435": {
     "model_module": "@jupyter-widgets/base",
     "model_module_version": "1.2.0",
     "model_name": "LayoutModel",
     "state": {
      "_model_module": "@jupyter-widgets/base",
      "_model_module_version": "1.2.0",
      "_model_name": "LayoutModel",
      "_view_count": null,
      "_view_module": "@jupyter-widgets/base",
      "_view_module_version": "1.2.0",
      "_view_name": "LayoutView",
      "align_content": null,
      "align_items": null,
      "align_self": null,
      "border": null,
      "bottom": null,
      "display": null,
      "flex": null,
      "flex_flow": null,
      "grid_area": null,
      "grid_auto_columns": null,
      "grid_auto_flow": null,
      "grid_auto_rows": null,
      "grid_column": null,
      "grid_gap": null,
      "grid_row": null,
      "grid_template_areas": null,
      "grid_template_columns": null,
      "grid_template_rows": null,
      "height": null,
      "justify_content": null,
      "justify_items": null,
      "left": null,
      "margin": null,
      "max_height": null,
      "max_width": null,
      "min_height": null,
      "min_width": null,
      "object_fit": null,
      "object_position": null,
      "order": null,
      "overflow": null,
      "overflow_x": null,
      "overflow_y": null,
      "padding": null,
      "right": null,
      "top": null,
      "visibility": null,
      "width": null
     }
    },
    "8fbaab16da94470fad903da03d151f74": {
     "model_module": "@jupyter-widgets/controls",
     "model_module_version": "1.5.0",
     "model_name": "HTMLModel",
     "state": {
      "_dom_classes": [],
      "_model_module": "@jupyter-widgets/controls",
      "_model_module_version": "1.5.0",
      "_model_name": "HTMLModel",
      "_view_count": null,
      "_view_module": "@jupyter-widgets/controls",
      "_view_module_version": "1.5.0",
      "_view_name": "HTMLView",
      "description": "",
      "description_tooltip": null,
      "layout": "IPY_MODEL_a8cfb168a36746deab7ba1f34ca4da12",
      "placeholder": "​",
      "style": "IPY_MODEL_31c46611baca40ae929b33decf1ac61e",
      "value": "Calculating Delta Delta E: 100%"
     }
    },
    "a8cfb168a36746deab7ba1f34ca4da12": {
     "model_module": "@jupyter-widgets/base",
     "model_module_version": "1.2.0",
     "model_name": "LayoutModel",
     "state": {
      "_model_module": "@jupyter-widgets/base",
      "_model_module_version": "1.2.0",
      "_model_name": "LayoutModel",
      "_view_count": null,
      "_view_module": "@jupyter-widgets/base",
      "_view_module_version": "1.2.0",
      "_view_name": "LayoutView",
      "align_content": null,
      "align_items": null,
      "align_self": null,
      "border": null,
      "bottom": null,
      "display": null,
      "flex": null,
      "flex_flow": null,
      "grid_area": null,
      "grid_auto_columns": null,
      "grid_auto_flow": null,
      "grid_auto_rows": null,
      "grid_column": null,
      "grid_gap": null,
      "grid_row": null,
      "grid_template_areas": null,
      "grid_template_columns": null,
      "grid_template_rows": null,
      "height": null,
      "justify_content": null,
      "justify_items": null,
      "left": null,
      "margin": null,
      "max_height": null,
      "max_width": null,
      "min_height": null,
      "min_width": null,
      "object_fit": null,
      "object_position": null,
      "order": null,
      "overflow": null,
      "overflow_x": null,
      "overflow_y": null,
      "padding": null,
      "right": null,
      "top": null,
      "visibility": null,
      "width": null
     }
    },
    "e20bf3b403d847c0a631efdc4ab3796a": {
     "model_module": "@jupyter-widgets/controls",
     "model_module_version": "1.5.0",
     "model_name": "FloatProgressModel",
     "state": {
      "_dom_classes": [],
      "_model_module": "@jupyter-widgets/controls",
      "_model_module_version": "1.5.0",
      "_model_name": "FloatProgressModel",
      "_view_count": null,
      "_view_module": "@jupyter-widgets/controls",
      "_view_module_version": "1.5.0",
      "_view_name": "ProgressView",
      "bar_style": "success",
      "description": "",
      "description_tooltip": null,
      "layout": "IPY_MODEL_01870aad64734999a2d30006aac285fb",
      "max": 310077,
      "min": 0,
      "orientation": "horizontal",
      "style": "IPY_MODEL_671b7243f1b54da8b9172ea21ae1c8b0",
      "value": 310077
     }
    },
    "e32dd9ff284745ac94333534c0390e04": {
     "model_module": "@jupyter-widgets/base",
     "model_module_version": "1.2.0",
     "model_name": "LayoutModel",
     "state": {
      "_model_module": "@jupyter-widgets/base",
      "_model_module_version": "1.2.0",
      "_model_name": "LayoutModel",
      "_view_count": null,
      "_view_module": "@jupyter-widgets/base",
      "_view_module_version": "1.2.0",
      "_view_name": "LayoutView",
      "align_content": null,
      "align_items": null,
      "align_self": null,
      "border": null,
      "bottom": null,
      "display": null,
      "flex": null,
      "flex_flow": null,
      "grid_area": null,
      "grid_auto_columns": null,
      "grid_auto_flow": null,
      "grid_auto_rows": null,
      "grid_column": null,
      "grid_gap": null,
      "grid_row": null,
      "grid_template_areas": null,
      "grid_template_columns": null,
      "grid_template_rows": null,
      "height": null,
      "justify_content": null,
      "justify_items": null,
      "left": null,
      "margin": null,
      "max_height": null,
      "max_width": null,
      "min_height": null,
      "min_width": null,
      "object_fit": null,
      "object_position": null,
      "order": null,
      "overflow": null,
      "overflow_x": null,
      "overflow_y": null,
      "padding": null,
      "right": null,
      "top": null,
      "visibility": null,
      "width": null
     }
    },
    "e83077a59c324e5fbe63552dbba6b6bb": {
     "model_module": "@jupyter-widgets/controls",
     "model_module_version": "1.5.0",
     "model_name": "DescriptionStyleModel",
     "state": {
      "_model_module": "@jupyter-widgets/controls",
      "_model_module_version": "1.5.0",
      "_model_name": "DescriptionStyleModel",
      "_view_count": null,
      "_view_module": "@jupyter-widgets/base",
      "_view_module_version": "1.2.0",
      "_view_name": "StyleView",
      "description_width": ""
     }
    }
   }
  }
 },
 "nbformat": 4,
 "nbformat_minor": 0
}
