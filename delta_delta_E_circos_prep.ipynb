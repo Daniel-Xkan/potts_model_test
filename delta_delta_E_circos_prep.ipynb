{
 "cells": [
  {
   "cell_type": "markdown",
   "metadata": {
    "id": "LpU9b4CjL9Xu"
   },
   "source": [
    "# 1 download DDEs for plotting"
   ]
  },
  {
   "cell_type": "code",
   "execution_count": 1,
   "metadata": {
    "colab": {
     "base_uri": "https://localhost:8080/"
    },
    "id": "SoJTXTJpLM_x",
    "outputId": "836fd9c2-bcd1-407b-ca3c-4cac8712b118"
   },
   "outputs": [],
   "source": [
    "# import os\n",
    "\n",
    "# url_j = \"https://github.com/Daniel-Xkan/potts_model_test/raw/main/J.npy\"\n",
    "# url_seq = \"https://github.com/Daniel-Xkan/potts_model_test/raw/main/in.reduce4.seq\"\n",
    "# url_consensus = \"https://github.com/Daniel-Xkan/potts_model_test/raw/main/in.consensus.reduce4.seq\"\n",
    "# url_nl43 = \"https://github.com/Daniel-Xkan/potts_model_test/raw/main/in.nl43.reduce4.seq\"\n",
    "# url_DDE = \"https://github.com/Daniel-Xkan/potts_model_test/raw/main/kn.her2.all\"\n",
    "\n",
    "# # Suppress output and check for success\n",
    "# if os.system(f\"wget -q {url_j}\") == 0:\n",
    "#     print(f\"Successfully downloaded {url_j}\")\n",
    "# else:\n",
    "#     print(f\"Failed to download {url_j}\")\n",
    "\n",
    "# if os.system(f\"wget -q {url_seq}\") == 0:\n",
    "#     print(f\"Successfully downloaded {url_seq}\")\n",
    "# else:\n",
    "#     print(f\"Failed to download {url_seq}\")\n",
    "\n",
    "# if os.system(f\"wget -q {url_consensus}\") == 0:\n",
    "#     print(f\"Successfully downloaded {url_consensus}\")\n",
    "# else:\n",
    "#     print(f\"Failed to download {url_consensus}\")\n",
    "\n",
    "# if os.system(f\"wget -q {url_nl43}\") == 0:\n",
    "#     print(f\"Successfully downloaded {url_nl43}\")\n",
    "# else:\n",
    "#     print(f\"Failed to download {url_nl43}\")\n",
    "\n",
    "# if os.system(f\"wget -q {url_DDE}\") == 0:\n",
    "#     print(f\"Successfully downloaded {url_DDE}\")\n",
    "# else:\n",
    "#     print(f\"Failed to download {url_DDE}\")"
   ]
  },
  {
   "cell_type": "markdown",
   "metadata": {
    "id": "ws9_RLdtjLB5"
   },
   "source": [
    "#2. Circos\n"
   ]
  },
  {
   "cell_type": "markdown",
   "metadata": {
    "id": "l2AcWIUpjOrN"
   },
   "source": [
    "##2.1 read in data from kn.her2.all"
   ]
  },
  {
   "cell_type": "code",
   "execution_count": 2,
   "metadata": {
    "colab": {
     "base_uri": "https://localhost:8080/",
     "height": 502
    },
    "id": "YxJftgenjWC1",
    "outputId": "bc6dd367-f1dd-4405-e453-0f00978cca5d"
   },
   "outputs": [
    {
     "name": "stdout",
     "output_type": "stream",
     "text": [
      "Original Data Head:\n"
     ]
    },
    {
     "data": {
      "text/html": [
       "<div>\n",
       "<style scoped>\n",
       "    .dataframe tbody tr th:only-of-type {\n",
       "        vertical-align: middle;\n",
       "    }\n",
       "\n",
       "    .dataframe tbody tr th {\n",
       "        vertical-align: top;\n",
       "    }\n",
       "\n",
       "    .dataframe thead th {\n",
       "        text-align: right;\n",
       "    }\n",
       "</style>\n",
       "<table border=\"1\" class=\"dataframe\">\n",
       "  <thead>\n",
       "    <tr style=\"text-align: right;\">\n",
       "      <th></th>\n",
       "      <th>identifier</th>\n",
       "      <th>dde_value</th>\n",
       "    </tr>\n",
       "  </thead>\n",
       "  <tbody>\n",
       "    <tr>\n",
       "      <th>0</th>\n",
       "      <td>A1B-B2A</td>\n",
       "      <td>0.012168</td>\n",
       "    </tr>\n",
       "    <tr>\n",
       "      <th>1</th>\n",
       "      <td>A1B-B2C</td>\n",
       "      <td>-0.000908</td>\n",
       "    </tr>\n",
       "    <tr>\n",
       "      <th>2</th>\n",
       "      <td>A1B-B2D</td>\n",
       "      <td>0.000125</td>\n",
       "    </tr>\n",
       "    <tr>\n",
       "      <th>3</th>\n",
       "      <td>A1B-A3B</td>\n",
       "      <td>0.008785</td>\n",
       "    </tr>\n",
       "    <tr>\n",
       "      <th>4</th>\n",
       "      <td>A1B-A3C</td>\n",
       "      <td>0.008937</td>\n",
       "    </tr>\n",
       "  </tbody>\n",
       "</table>\n",
       "</div>"
      ],
      "text/plain": [
       "  identifier  dde_value\n",
       "0    A1B-B2A   0.012168\n",
       "1    A1B-B2C  -0.000908\n",
       "2    A1B-B2D   0.000125\n",
       "3    A1B-A3B   0.008785\n",
       "4    A1B-A3C   0.008937"
      ]
     },
     "metadata": {},
     "output_type": "display_data"
    },
    {
     "name": "stdout",
     "output_type": "stream",
     "text": [
      "\n",
      "Filtered Data Head (abs(DDE) > 4.5):\n"
     ]
    },
    {
     "data": {
      "text/html": [
       "<div>\n",
       "<style scoped>\n",
       "    .dataframe tbody tr th:only-of-type {\n",
       "        vertical-align: middle;\n",
       "    }\n",
       "\n",
       "    .dataframe tbody tr th {\n",
       "        vertical-align: top;\n",
       "    }\n",
       "\n",
       "    .dataframe thead th {\n",
       "        text-align: right;\n",
       "    }\n",
       "</style>\n",
       "<table border=\"1\" class=\"dataframe\">\n",
       "  <thead>\n",
       "    <tr style=\"text-align: right;\">\n",
       "      <th></th>\n",
       "      <th>identifier</th>\n",
       "      <th>dde_value</th>\n",
       "    </tr>\n",
       "  </thead>\n",
       "  <tbody>\n",
       "    <tr>\n",
       "      <th>11701</th>\n",
       "      <td>B6A-C7B</td>\n",
       "      <td>6.06472</td>\n",
       "    </tr>\n",
       "    <tr>\n",
       "      <th>13243</th>\n",
       "      <td>B6D-C7B</td>\n",
       "      <td>6.37774</td>\n",
       "    </tr>\n",
       "    <tr>\n",
       "      <th>216124</th>\n",
       "      <td>D119A-C122B</td>\n",
       "      <td>5.94553</td>\n",
       "    </tr>\n",
       "    <tr>\n",
       "      <th>239229</th>\n",
       "      <td>D138A-D148A</td>\n",
       "      <td>4.90052</td>\n",
       "    </tr>\n",
       "    <tr>\n",
       "      <th>241464</th>\n",
       "      <td>C140A-D148A</td>\n",
       "      <td>5.61299</td>\n",
       "    </tr>\n",
       "  </tbody>\n",
       "</table>\n",
       "</div>"
      ],
      "text/plain": [
       "         identifier  dde_value\n",
       "11701       B6A-C7B    6.06472\n",
       "13243       B6D-C7B    6.37774\n",
       "216124  D119A-C122B    5.94553\n",
       "239229  D138A-D148A    4.90052\n",
       "241464  C140A-D148A    5.61299"
      ]
     },
     "metadata": {},
     "output_type": "display_data"
    },
    {
     "name": "stdout",
     "output_type": "stream",
     "text": [
      "\n",
      "Original number of interactions: 310077\n",
      "Number of interactions with abs(DDE) > 4.5: 13\n"
     ]
    }
   ],
   "source": [
    "import pandas as pd\n",
    "import numpy as np\n",
    "\n",
    "# Read the data from kn.her2.all, reading the first column as the identifier and the second as the DDE value\n",
    "# Assuming the file is space-separated and the relevant columns are the first and second (0-indexed)\n",
    "try:\n",
    "    dde_df = pd.read_csv(\"kn.her2.all\", sep='\\s+', header=None, usecols=[0, 1], names=['identifier', 'dde_value'], dtype={'identifier': str})\n",
    "except Exception as e:\n",
    "    print(f\"Error reading file: {e}\")\n",
    "    print(\"Could not read the file with space separator. Please check the file format.\")\n",
    "    # Attempt to read with a different separator if space doesn't work\n",
    "    try:\n",
    "        dde_df = pd.read_csv(\"kn.her2.all\", sep=',', header=None, usecols=[0, 1], names=['identifier', 'dde_value'], dtype={'identifier': str})\n",
    "    except Exception as e_comma:\n",
    "        print(f\"Error reading file with comma separator: {e_comma}\")\n",
    "        # If both fail, print a generic error and exit\n",
    "        print(\"Could not read the file with space or comma separators. Please check the file format.\")\n",
    "        exit()\n",
    "\n",
    "\n",
    "# Convert the dde_value column to numeric, coercing errors\n",
    "dde_df['dde_value'] = pd.to_numeric(dde_df['dde_value'], errors='coerce')\n",
    "\n",
    "# Drop rows where dde_value could not be converted (optional, but good for clean data)\n",
    "dde_df.dropna(subset=['dde_value'], inplace=True)\n",
    "\n",
    "# Apply the filter (absolute DDE > 4.5) - Adding this filtering step back\n",
    "filtered_dde_df = dde_df[np.abs(dde_df['dde_value']) > 4.5]\n",
    "\n",
    "\n",
    "# Print the head of the dataframe\n",
    "print(\"Original Data Head:\")\n",
    "display(dde_df.head())\n",
    "\n",
    "print(\"\\nFiltered Data Head (abs(DDE) > 4.5):\")\n",
    "display(filtered_dde_df.head())\n",
    "\n",
    "print(f\"\\nOriginal number of interactions: {len(dde_df)}\")\n",
    "print(f\"Number of interactions with abs(DDE) > 4.5: {len(filtered_dde_df)}\")"
   ]
  },
  {
   "cell_type": "markdown",
   "metadata": {
    "id": "e07f139c"
   },
   "source": [
    "## 2.2 Output Circos Links Data to File\n",
    "write the prepared Circos links data to a file"
   ]
  },
  {
   "cell_type": "code",
   "execution_count": 3,
   "metadata": {
    "colab": {
     "base_uri": "https://localhost:8080/"
    },
    "id": "nTa1ueJFIgya",
    "outputId": "87b9e01f-fb7f-496c-f28d-604a33d35ef3"
   },
   "outputs": [
    {
     "name": "stdout",
     "output_type": "stream",
     "text": [
      "Prepared 13 links for Circos plotting.\n",
      "Circos links data saved to circos_links.tsv in TSV format.\n"
     ]
    }
   ],
   "source": [
    "# Prepare data for Circos links from the filtered_dde_df\n",
    "circos_links = []\n",
    "for index, row in filtered_dde_df.iterrows():\n",
    "    identifier = row['identifier']\n",
    "    dde_value = row['dde_value']\n",
    "\n",
    "    # Parse the identifier to get positions for Circos.\n",
    "    # This is based on the assumption that the identifier like 'A1B-B2A'\n",
    "    # can be split into two parts, and each part can be used to derive a numerical position.\n",
    "    # This logic might need adjustment based on the actual format of your identifiers\n",
    "    # and your Circos configuration.\n",
    "\n",
    "    try:\n",
    "        parts = identifier.split('-')\n",
    "        if len(parts) == 2:\n",
    "            pos1_id = parts[0]\n",
    "            pos2_id = parts[1]\n",
    "\n",
    "            # Placeholder for extracting numerical positions (replace with your logic)\n",
    "            # Attempt to extract digits from the end of the identifier parts\n",
    "            num_pos1 = int(''.join(filter(str.isdigit, pos1_id))) if any(char.isdigit() for char in pos1_id) else 0\n",
    "            num_pos2 = int(''.join(filter(str.isdigit, pos2_id))) if any(char.isdigit() for char in pos2_id) else 0\n",
    "\n",
    "            # Placeholder region name (replace with your Circos region names)\n",
    "            region = 'seq' # Example region name\n",
    "\n",
    "            # Circos link format: region start end region start end [attributes]\n",
    "            # We'll use the extracted numerical positions as start and end for simplicity.\n",
    "            circos_links.append(f\"{region} {num_pos1} {num_pos1} {region} {num_pos2} {num_pos2} dde={dde_value}\")\n",
    "\n",
    "        else:\n",
    "            # Handle identifiers that don't split into two parts\n",
    "            print(f\"Identifier '{identifier}' does not have the expected format (e.g., 'A-B'). Skipping.\")\n",
    "            continue # Skip if the identifier format is not as expected\n",
    "\n",
    "    except ValueError:\n",
    "         print(f\"Could not parse numerical positions from identifier parts {pos1_id} or {pos2_id}. Skipping link.\")\n",
    "         continue # Skip this link if parsing fails\n",
    "    except Exception as e:\n",
    "        print(f\"Error processing identifier '{identifier}': {e}. Skipping link.\")\n",
    "        continue # Skip this link if any error occurs during processing\n",
    "\n",
    "\n",
    "print(f\"Prepared {len(circos_links)} links for Circos plotting.\")\n",
    "\n",
    "# # Define the output file name\n",
    "# output_file = \"circos_links_with_ids.txt\"\n",
    "\n",
    "# # Write the Circos links to the file with IDs\n",
    "# with open(output_file, \"w\") as f:\n",
    "#     for i, link in enumerate(circos_links):\n",
    "#         # Add a unique ID to each link line (e.g., link_id = i+1)\n",
    "#         f.write(f\"link_{i+1} {link}\\n\")\n",
    "\n",
    "# print(f\"Circos links with IDs saved to {output_file}\")\n",
    "\n",
    "#########################################################################\n",
    "\n",
    "\n",
    "# Define the output file name for TSV\n",
    "output_file_tsv = \"circos_links.tsv\"\n",
    "\n",
    "# Write the Circos links data to a TSV file\n",
    "with open(output_file_tsv, \"w\") as f:\n",
    "    # Write header - Adjust header based on the parsed components of your Circos links\n",
    "    f.write(\"link_id\\tregion1\\tstart1\\tend1\\tregion2\\tstart2\\tend2\\tattributes\\n\")\n",
    "\n",
    "    for i, link in enumerate(circos_links):\n",
    "        link_id = f\"link_{i+1}\"\n",
    "        # Parse the Circos link string - This parsing logic needs to match the format of your circos_links\n",
    "        # Assuming the format is \"region1 start1 end1 region2 start2 end2 attributes\"\n",
    "        parts = link.split()\n",
    "        if len(parts) >= 6:\n",
    "            region1 = parts[0]\n",
    "            start1 = parts[1]\n",
    "            end1 = parts[2]\n",
    "            region2 = parts[3]\n",
    "            start2 = parts[4]\n",
    "            end2 = parts[5]\n",
    "            attributes = \" \".join(parts[6:]) if len(parts) > 6 else \"\"\n",
    "\n",
    "            # Write data row in TSV format\n",
    "            f.write(f\"{link_id}\\t{region1}\\t{start1}\\t{end1}\\t{region2}\\t{start2}\\t{end2}\\t{attributes}\\n\")\n",
    "        else:\n",
    "            print(f\"Could not parse Circos link string: {link}. Skipping.\")\n",
    "\n",
    "\n",
    "print(f\"Circos links data saved to {output_file_tsv} in TSV format.\")"
   ]
  },
  {
   "cell_type": "markdown",
   "metadata": {},
   "source": [
    "# PyCircos generate"
   ]
  },
  {
   "cell_type": "code",
   "execution_count": 10,
   "metadata": {
    "id": "oNCjrrvJR1wy"
   },
   "outputs": [],
   "source": [
    "%matplotlib inline"
   ]
  },
  {
   "cell_type": "code",
   "execution_count": 11,
   "metadata": {},
   "outputs": [],
   "source": [
    "import pycircos\n",
    "import matplotlib.pyplot as plt\n",
    "Garc    = pycircos.Garc\n",
    "Gcircle = pycircos.Gcircle"
   ]
  },
  {
   "cell_type": "code",
   "execution_count": null,
   "metadata": {},
   "outputs": [
    {
     "data": {
      "text/plain": [
       "<Figure size 800x800 with 0 Axes>"
      ]
     },
     "metadata": {},
     "output_type": "display_data"
    }
   ],
   "source": [
    "#Set chromosomes\n",
    "circle = Gcircle(figsize=(8,8)) \n",
    "with open(\"circos_links.tsv\") as f:\n",
    "    f.readline()\n",
    "    for line in f:\n",
    "        line   = line.rstrip().split(\"\\t\") \n",
    "        name   = line[0]\n",
    "        length = int(line[-1]) \n",
    "        arc    = Garc(arc_id=name, size=length, interspace=2, raxis_range=(935,985), labelposition=80, label_visible=True)\n",
    "        circle.add_garc(arc) "
   ]
  }
 ],
 "metadata": {
  "colab": {
   "machine_shape": "hm",
   "provenance": []
  },
  "kernelspec": {
   "display_name": "Python 3",
   "name": "python3"
  },
  "language_info": {
   "codemirror_mode": {
    "name": "ipython",
    "version": 3
   },
   "file_extension": ".py",
   "mimetype": "text/x-python",
   "name": "python",
   "nbconvert_exporter": "python",
   "pygments_lexer": "ipython3",
   "version": "3.8.6"
  }
 },
 "nbformat": 4,
 "nbformat_minor": 0
}
